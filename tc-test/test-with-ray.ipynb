{
 "cells": [
  {
   "cell_type": "code",
   "execution_count": 1,
   "id": "5e1e3029",
   "metadata": {},
   "outputs": [],
   "source": [
    "import accelerate\n",
    "from accelerate import init_empty_weights\n",
    "from accelerate import load_checkpoint_and_dispatch, infer_auto_device_map\n",
    "from accelerate.utils import get_balanced_memory\n"
   ]
  },
  {
   "cell_type": "code",
   "execution_count": 2,
   "id": "6ad1b656",
   "metadata": {},
   "outputs": [],
   "source": [
    "import torch.nn as nn\n",
    "import torch\n",
    "import json\n"
   ]
  },
  {
   "cell_type": "code",
   "execution_count": 3,
   "id": "f6fa8b46",
   "metadata": {},
   "outputs": [],
   "source": [
    "input = torch.randn(1, 20)\n",
    "def get_model():\n",
    "    return nn.Sequential(\n",
    "          nn.Linear(20, 20),\n",
    "          nn.Linear(20, 20),\n",
    "        )\n",
    "real_model = get_model()\n",
    "output = real_model.forward(input)\n",
    "state_dict = real_model.state_dict()\n",
    "state_dict\n",
    "\n",
    "new_dict = {}\n",
    "for name, tensor in state_dict.items():\n",
    "    fname = f\"model_{name}.pt\"\n",
    "    torch.save(state_dict, fname)\n",
    "    new_dict[name] = fname\n",
    "\n",
    "checkpoint_path='index.json'\n",
    "with open(checkpoint_path, 'w') as f:\n",
    "    json.dump(new_dict, f, indent=2)\n",
    "    \n"
   ]
  },
  {
   "cell_type": "code",
   "execution_count": 13,
   "id": "8c108cce",
   "metadata": {},
   "outputs": [],
   "source": [
    "import ray\n",
    "# @ray.remote(num_gpus=1)\n",
    "class RayModelShard:\n",
    "    def __init__(self, device_id: int, model, device_map, checkpoint_path):\n",
    "        self.actor_name = f\"shard_{device_id}\"\n",
    "        print(locals())\n",
    "        import os\n",
    "#         local_device = os.getenv('CUDA_VISIBLE_DEVICES')\n",
    "        if os.getenv('CUDA_VISIBLE_DEVICES'):\n",
    "            del os.environ['CUDA_VISIBLE_DEVICES']\n",
    "        print('Ray gpu ids', ray.get_gpu_ids())\n",
    "#         os.environ['CUDA_LAUNCH_BLOCKING']='1'\n",
    "        self.device_id = device_id\n",
    "        new_device_map = {\n",
    "            shard_name: device_id if device == device_id else 'cpu' for shard_name, device in device_map.items()\n",
    "        }\n",
    "        print('device_ids', device_id, new_device_map)\n",
    "        self.device_map = new_device_map\n",
    "        self.model = model\n",
    "        print('trying to load the model...')\n",
    "\n",
    "        self.loaded_model = load_checkpoint_and_dispatch(model, checkpoint_path, device_map=new_device_map)\n",
    "        print(\"ran init\")\n",
    "\n",
    "    \n",
    "    def forward(self, *args, **kwargs):\n",
    "#         return \"ran_forward\"\n",
    "        print('run forward', self.actor_name)\n",
    "        return self.loaded_model.forward(*args, **kwargs)\n",
    "\n",
    "RayModelShardActor = ray.remote(num_gpus=1)(RayModelShard)\n",
    "\n",
    "\n",
    "class Dispatcher:\n",
    "    def __init__(self, device_map):\n",
    "        self.device_map = device_map\n",
    "        \n",
    "    def dispatch(self, *args, _module**kwargs,)"
   ]
  },
  {
   "cell_type": "code",
   "execution_count": 14,
   "id": "28161f55",
   "metadata": {},
   "outputs": [
    {
     "name": "stdout",
     "output_type": "stream",
     "text": [
      "Sequential(\n",
      "  (0): Linear(in_features=20, out_features=20, bias=True)\n",
      "  (1): Linear(in_features=20, out_features=20, bias=True)\n",
      ")\n"
     ]
    }
   ],
   "source": [
    "with init_empty_weights():\n",
    "    model = get_model()\n",
    "\n",
    "print(model)\n",
    "# Get the device map\n",
    "max_memory = get_balanced_memory(\n",
    "    model,\n",
    ")\n",
    "device_map = infer_auto_device_map(model, max_memory=max_memory)\n",
    "\n",
    "devices = sorted(set(device_map.values()))"
   ]
  },
  {
   "cell_type": "code",
   "execution_count": 15,
   "id": "76a1ad20",
   "metadata": {},
   "outputs": [
    {
     "name": "stdout",
     "output_type": "stream",
     "text": [
      "\u001b[2m\u001b[36m(RayModelShard pid=27475)\u001b[0m {'self': <__main__.RayModelShard object at 0x7fc0b6658370>, 'model': Sequential(\n",
      "\u001b[2m\u001b[36m(RayModelShard pid=27475)\u001b[0m   (0): Linear(in_features=20, out_features=20, bias=True)\n",
      "\u001b[2m\u001b[36m(RayModelShard pid=27475)\u001b[0m   (1): Linear(in_features=20, out_features=20, bias=True)\n",
      "\u001b[2m\u001b[36m(RayModelShard pid=27475)\u001b[0m ), 'device_map': {'0': 1, '1': 2}, 'checkpoint_path': '/home/ray/tc-test-bloom/tc-test/index.json', 'device_id': 1}\n",
      "\u001b[2m\u001b[36m(RayModelShard pid=27475)\u001b[0m Ray gpu ids [0]\n",
      "\u001b[2m\u001b[36m(RayModelShard pid=27475)\u001b[0m device_ids 1 {'0': 1, '1': 'cpu'}\n",
      "\u001b[2m\u001b[36m(RayModelShard pid=27475)\u001b[0m trying to load the model...\n",
      "\u001b[2m\u001b[36m(RayModelShard pid=27476)\u001b[0m {'self': <__main__.RayModelShard object at 0x7f212ba48340>, 'model': Sequential(\n",
      "\u001b[2m\u001b[36m(RayModelShard pid=27476)\u001b[0m   (0): Linear(in_features=20, out_features=20, bias=True)\n",
      "\u001b[2m\u001b[36m(RayModelShard pid=27476)\u001b[0m   (1): Linear(in_features=20, out_features=20, bias=True)\n",
      "\u001b[2m\u001b[36m(RayModelShard pid=27476)\u001b[0m ), 'device_map': {'0': 1, '1': 2}, 'checkpoint_path': '/home/ray/tc-test-bloom/tc-test/index.json', 'device_id': 2}\n",
      "\u001b[2m\u001b[36m(RayModelShard pid=27476)\u001b[0m Ray gpu ids [1]\n",
      "\u001b[2m\u001b[36m(RayModelShard pid=27476)\u001b[0m device_ids 2 {'0': 'cpu', '1': 2}\n",
      "\u001b[2m\u001b[36m(RayModelShard pid=27476)\u001b[0m trying to load the model...\n",
      "\u001b[2m\u001b[36m(RayModelShard pid=27475)\u001b[0m ran init\n",
      "\u001b[2m\u001b[36m(RayModelShard pid=27476)\u001b[0m ran init\n"
     ]
    }
   ],
   "source": [
    "# device_actors = [RayModelShard(device, model, device_map, checkpoint_path=\"/home/ray/tc-test-bloom/tc-test/index.json\") for device in devices]\n",
    "device_actors = [RayModelShardActor.remote(device, model, device_map, checkpoint_path=\"/home/ray/tc-test-bloom/tc-test/index.json\") for device in devices]\n"
   ]
  },
  {
   "cell_type": "code",
   "execution_count": 16,
   "id": "fca656ad",
   "metadata": {},
   "outputs": [],
   "source": [
    "ray_out = ray.get(device_actors[0].forward.remote(input))\n",
    "# device_actors[0].forward(input)"
   ]
  },
  {
   "cell_type": "code",
   "execution_count": 17,
   "id": "4f46f88e",
   "metadata": {},
   "outputs": [
    {
     "data": {
      "text/plain": [
       "tensor([[-0.7395, -0.1088, -0.2778,  0.1993, -0.3198,  0.2734, -0.5200,  0.1238,\n",
       "         -0.0372, -0.1720, -0.0598, -0.1271,  0.0536,  0.1790,  0.1112, -0.4418,\n",
       "          0.1633, -0.0606,  0.0527,  0.2419]], requires_grad=True)"
      ]
     },
     "execution_count": 17,
     "metadata": {},
     "output_type": "execute_result"
    }
   ],
   "source": [
    "ray_out"
   ]
  },
  {
   "cell_type": "code",
   "execution_count": 24,
   "id": "12b86187",
   "metadata": {},
   "outputs": [
    {
     "name": "stdout",
     "output_type": "stream",
     "text": [
      "('', Linear(in_features=20, out_features=20, bias=True))\n"
     ]
    }
   ],
   "source": [
    "for c in real_model.__getattr__('0').named_modules():\n",
    "    print(c)"
   ]
  },
  {
   "cell_type": "code",
   "execution_count": 22,
   "id": "ef2f9af9",
   "metadata": {},
   "outputs": [
    {
     "data": {
      "text/html": [
       "<pre style=\"white-space:pre;overflow-x:auto;line-height:normal;font-family:Menlo,'DejaVu Sans Mono',consolas,'Courier New',monospace\"><span style=\"color: #800000; text-decoration-color: #800000\">╭─────────────────────────────── </span><span style=\"color: #800000; text-decoration-color: #800000; font-weight: bold\">Traceback </span><span style=\"color: #bf7f7f; text-decoration-color: #bf7f7f; font-weight: bold\">(most recent call last)</span><span style=\"color: #800000; text-decoration-color: #800000\"> ────────────────────────────────╮</span>\n",
       "<span style=\"color: #800000; text-decoration-color: #800000\">│</span> <span style=\"color: #bfbf7f; text-decoration-color: #bfbf7f\">/tmp/ipykernel_42458/</span><span style=\"color: #808000; text-decoration-color: #808000; font-weight: bold\">3567154621.py</span>:<span style=\"color: #0000ff; text-decoration-color: #0000ff\">1</span> in <span style=\"color: #00ff00; text-decoration-color: #00ff00\">&lt;module&gt;</span>                                                 <span style=\"color: #800000; text-decoration-color: #800000\">│</span>\n",
       "<span style=\"color: #800000; text-decoration-color: #800000\">│</span>                                                                                                  <span style=\"color: #800000; text-decoration-color: #800000\">│</span>\n",
       "<span style=\"color: #800000; text-decoration-color: #800000\">│</span> <span style=\"color: #800000; text-decoration-color: #800000; font-style: italic\">[Errno 2] No such file or directory: '/tmp/ipykernel_42458/3567154621.py'</span>                        <span style=\"color: #800000; text-decoration-color: #800000\">│</span>\n",
       "<span style=\"color: #800000; text-decoration-color: #800000\">│</span>                                                                                                  <span style=\"color: #800000; text-decoration-color: #800000\">│</span>\n",
       "<span style=\"color: #800000; text-decoration-color: #800000\">│</span> <span style=\"color: #bfbf7f; text-decoration-color: #bfbf7f\">/home/ray/anaconda3/lib/python3.9/site-packages/ray/_private/</span><span style=\"color: #808000; text-decoration-color: #808000; font-weight: bold\">client_mode_hook.py</span>:<span style=\"color: #0000ff; text-decoration-color: #0000ff\">105</span> in <span style=\"color: #00ff00; text-decoration-color: #00ff00\">wrapper</span>  <span style=\"color: #800000; text-decoration-color: #800000\">│</span>\n",
       "<span style=\"color: #800000; text-decoration-color: #800000\">│</span>                                                                                                  <span style=\"color: #800000; text-decoration-color: #800000\">│</span>\n",
       "<span style=\"color: #800000; text-decoration-color: #800000\">│</span>   <span style=\"color: #7f7f7f; text-decoration-color: #7f7f7f\">102 │   │   │   # we only convert init function if RAY_CLIENT_MODE=1</span>                           <span style=\"color: #800000; text-decoration-color: #800000\">│</span>\n",
       "<span style=\"color: #800000; text-decoration-color: #800000\">│</span>   <span style=\"color: #7f7f7f; text-decoration-color: #7f7f7f\">103 │   │   │   </span><span style=\"color: #0000ff; text-decoration-color: #0000ff\">if</span> func.<span style=\"color: #ff0000; text-decoration-color: #ff0000\">__name__</span> != <span style=\"color: #808000; text-decoration-color: #808000\">\"init\"</span> <span style=\"color: #ff00ff; text-decoration-color: #ff00ff\">or</span> is_client_mode_enabled_by_default:               <span style=\"color: #800000; text-decoration-color: #800000\">│</span>\n",
       "<span style=\"color: #800000; text-decoration-color: #800000\">│</span>   <span style=\"color: #7f7f7f; text-decoration-color: #7f7f7f\">104 │   │   │   │   </span><span style=\"color: #0000ff; text-decoration-color: #0000ff\">return</span> <span style=\"color: #00ffff; text-decoration-color: #00ffff\">getattr</span>(ray, func.<span style=\"color: #ff0000; text-decoration-color: #ff0000\">__name__</span>)(*args, **kwargs)                        <span style=\"color: #800000; text-decoration-color: #800000\">│</span>\n",
       "<span style=\"color: #800000; text-decoration-color: #800000\">│</span> <span style=\"color: #800000; text-decoration-color: #800000\">❱ </span>105 <span style=\"color: #7f7f7f; text-decoration-color: #7f7f7f\">│   │   </span><span style=\"color: #0000ff; text-decoration-color: #0000ff\">return</span> func(*args, **kwargs)                                                       <span style=\"color: #800000; text-decoration-color: #800000\">│</span>\n",
       "<span style=\"color: #800000; text-decoration-color: #800000\">│</span>   <span style=\"color: #7f7f7f; text-decoration-color: #7f7f7f\">106 │   </span>                                                                                       <span style=\"color: #800000; text-decoration-color: #800000\">│</span>\n",
       "<span style=\"color: #800000; text-decoration-color: #800000\">│</span>   <span style=\"color: #7f7f7f; text-decoration-color: #7f7f7f\">107 │   </span><span style=\"color: #0000ff; text-decoration-color: #0000ff\">return</span> wrapper                                                                         <span style=\"color: #800000; text-decoration-color: #800000\">│</span>\n",
       "<span style=\"color: #800000; text-decoration-color: #800000\">│</span>   <span style=\"color: #7f7f7f; text-decoration-color: #7f7f7f\">108 </span>                                                                                           <span style=\"color: #800000; text-decoration-color: #800000\">│</span>\n",
       "<span style=\"color: #800000; text-decoration-color: #800000\">│</span>                                                                                                  <span style=\"color: #800000; text-decoration-color: #800000\">│</span>\n",
       "<span style=\"color: #800000; text-decoration-color: #800000\">│</span> <span style=\"color: #bfbf7f; text-decoration-color: #bfbf7f\">/home/ray/anaconda3/lib/python3.9/site-packages/ray/_private/</span><span style=\"color: #808000; text-decoration-color: #808000; font-weight: bold\">worker.py</span>:<span style=\"color: #0000ff; text-decoration-color: #0000ff\">2538</span> in <span style=\"color: #00ff00; text-decoration-color: #00ff00\">get_actor</span>         <span style=\"color: #800000; text-decoration-color: #800000\">│</span>\n",
       "<span style=\"color: #800000; text-decoration-color: #800000\">│</span>                                                                                                  <span style=\"color: #800000; text-decoration-color: #800000\">│</span>\n",
       "<span style=\"color: #800000; text-decoration-color: #800000\">│</span>   <span style=\"color: #7f7f7f; text-decoration-color: #7f7f7f\">2535 │   </span>                                                                                      <span style=\"color: #800000; text-decoration-color: #800000\">│</span>\n",
       "<span style=\"color: #800000; text-decoration-color: #800000\">│</span>   <span style=\"color: #7f7f7f; text-decoration-color: #7f7f7f\">2536 │   </span>worker = global_worker                                                                <span style=\"color: #800000; text-decoration-color: #800000\">│</span>\n",
       "<span style=\"color: #800000; text-decoration-color: #800000\">│</span>   <span style=\"color: #7f7f7f; text-decoration-color: #7f7f7f\">2537 │   </span>worker.check_connected()                                                              <span style=\"color: #800000; text-decoration-color: #800000\">│</span>\n",
       "<span style=\"color: #800000; text-decoration-color: #800000\">│</span> <span style=\"color: #800000; text-decoration-color: #800000\">❱ </span>2538 <span style=\"color: #7f7f7f; text-decoration-color: #7f7f7f\">│   </span><span style=\"color: #0000ff; text-decoration-color: #0000ff\">return</span> worker.core_worker.get_named_actor_handle(name, namespace <span style=\"color: #ff00ff; text-decoration-color: #ff00ff\">or</span> <span style=\"color: #808000; text-decoration-color: #808000\">\"\"</span>)               <span style=\"color: #800000; text-decoration-color: #800000\">│</span>\n",
       "<span style=\"color: #800000; text-decoration-color: #800000\">│</span>   <span style=\"color: #7f7f7f; text-decoration-color: #7f7f7f\">2539 </span>                                                                                          <span style=\"color: #800000; text-decoration-color: #800000\">│</span>\n",
       "<span style=\"color: #800000; text-decoration-color: #800000\">│</span>   <span style=\"color: #7f7f7f; text-decoration-color: #7f7f7f\">2540 </span>                                                                                          <span style=\"color: #800000; text-decoration-color: #800000\">│</span>\n",
       "<span style=\"color: #800000; text-decoration-color: #800000\">│</span>   <span style=\"color: #7f7f7f; text-decoration-color: #7f7f7f\">2541 </span><span style=\"color: #ff00ff; text-decoration-color: #ff00ff; font-weight: bold\">@PublicAPI</span>                                                                                <span style=\"color: #800000; text-decoration-color: #800000\">│</span>\n",
       "<span style=\"color: #800000; text-decoration-color: #800000\">│</span>                                                                                                  <span style=\"color: #800000; text-decoration-color: #800000\">│</span>\n",
       "<span style=\"color: #800000; text-decoration-color: #800000\">│</span> <span style=\"color: #bfbf7f; text-decoration-color: #bfbf7f\">/home/ray/tc-test-bloom/tc-test/python/ray/</span><span style=\"color: #808000; text-decoration-color: #808000; font-weight: bold\">_raylet.pyx</span>:<span style=\"color: #0000ff; text-decoration-color: #0000ff\">2260</span> in                                   <span style=\"color: #800000; text-decoration-color: #800000\">│</span>\n",
       "<span style=\"color: #800000; text-decoration-color: #800000\">│</span> <span style=\"color: #00ff00; text-decoration-color: #00ff00\">ray._raylet.CoreWorker.get_named_actor_handle</span>                                                    <span style=\"color: #800000; text-decoration-color: #800000\">│</span>\n",
       "<span style=\"color: #800000; text-decoration-color: #800000\">│</span>                                                                                                  <span style=\"color: #800000; text-decoration-color: #800000\">│</span>\n",
       "<span style=\"color: #800000; text-decoration-color: #800000\">│</span> <span style=\"color: #800000; text-decoration-color: #800000; font-style: italic\">[Errno 2] No such file or directory: '/home/ray/tc-test-bloom/tc-test/python/ray/_raylet.pyx'</span>    <span style=\"color: #800000; text-decoration-color: #800000\">│</span>\n",
       "<span style=\"color: #800000; text-decoration-color: #800000\">│</span>                                                                                                  <span style=\"color: #800000; text-decoration-color: #800000\">│</span>\n",
       "<span style=\"color: #800000; text-decoration-color: #800000\">│</span> <span style=\"color: #bfbf7f; text-decoration-color: #bfbf7f\">/home/ray/tc-test-bloom/tc-test/python/ray/</span><span style=\"color: #808000; text-decoration-color: #808000; font-weight: bold\">_raylet.pyx</span>:<span style=\"color: #0000ff; text-decoration-color: #0000ff\">199</span> in <span style=\"color: #00ff00; text-decoration-color: #00ff00\">ray._raylet.check_status</span>           <span style=\"color: #800000; text-decoration-color: #800000\">│</span>\n",
       "<span style=\"color: #800000; text-decoration-color: #800000\">│</span>                                                                                                  <span style=\"color: #800000; text-decoration-color: #800000\">│</span>\n",
       "<span style=\"color: #800000; text-decoration-color: #800000\">│</span> <span style=\"color: #800000; text-decoration-color: #800000; font-style: italic\">[Errno 2] No such file or directory: '/home/ray/tc-test-bloom/tc-test/python/ray/_raylet.pyx'</span>    <span style=\"color: #800000; text-decoration-color: #800000\">│</span>\n",
       "<span style=\"color: #800000; text-decoration-color: #800000\">╰──────────────────────────────────────────────────────────────────────────────────────────────────╯</span>\n",
       "<span style=\"color: #ff0000; text-decoration-color: #ff0000; font-weight: bold\">ValueError: </span>Failed to look up actor with name <span style=\"color: #008000; text-decoration-color: #008000\">'shard4_2'</span>. This could because <span style=\"color: #008080; text-decoration-color: #008080; font-weight: bold\">1</span>. You are trying to look up a named \n",
       "actor you didn't create. <span style=\"color: #008080; text-decoration-color: #008080; font-weight: bold\">2</span>. The named actor died. <span style=\"color: #008080; text-decoration-color: #008080; font-weight: bold\">3</span>. You did not use a namespace matching the namespace of the \n",
       "actor.\n",
       "</pre>\n"
      ],
      "text/plain": [
       "\u001b[31m╭─\u001b[0m\u001b[31m──────────────────────────────\u001b[0m\u001b[31m \u001b[0m\u001b[1;31mTraceback \u001b[0m\u001b[1;2;31m(most recent call last)\u001b[0m\u001b[31m \u001b[0m\u001b[31m───────────────────────────────\u001b[0m\u001b[31m─╮\u001b[0m\n",
       "\u001b[31m│\u001b[0m \u001b[2;33m/tmp/ipykernel_42458/\u001b[0m\u001b[1;33m3567154621.py\u001b[0m:\u001b[94m1\u001b[0m in \u001b[92m<module>\u001b[0m                                                 \u001b[31m│\u001b[0m\n",
       "\u001b[31m│\u001b[0m                                                                                                  \u001b[31m│\u001b[0m\n",
       "\u001b[31m│\u001b[0m \u001b[3;31m[Errno 2] No such file or directory: '/tmp/ipykernel_42458/3567154621.py'\u001b[0m                        \u001b[31m│\u001b[0m\n",
       "\u001b[31m│\u001b[0m                                                                                                  \u001b[31m│\u001b[0m\n",
       "\u001b[31m│\u001b[0m \u001b[2;33m/home/ray/anaconda3/lib/python3.9/site-packages/ray/_private/\u001b[0m\u001b[1;33mclient_mode_hook.py\u001b[0m:\u001b[94m105\u001b[0m in \u001b[92mwrapper\u001b[0m  \u001b[31m│\u001b[0m\n",
       "\u001b[31m│\u001b[0m                                                                                                  \u001b[31m│\u001b[0m\n",
       "\u001b[31m│\u001b[0m   \u001b[2m102 \u001b[0m\u001b[2m│   │   │   \u001b[0m\u001b[2m# we only convert init function if RAY_CLIENT_MODE=1\u001b[0m                           \u001b[31m│\u001b[0m\n",
       "\u001b[31m│\u001b[0m   \u001b[2m103 \u001b[0m\u001b[2m│   │   │   \u001b[0m\u001b[94mif\u001b[0m func.\u001b[91m__name__\u001b[0m != \u001b[33m\"\u001b[0m\u001b[33minit\u001b[0m\u001b[33m\"\u001b[0m \u001b[95mor\u001b[0m is_client_mode_enabled_by_default:               \u001b[31m│\u001b[0m\n",
       "\u001b[31m│\u001b[0m   \u001b[2m104 \u001b[0m\u001b[2m│   │   │   │   \u001b[0m\u001b[94mreturn\u001b[0m \u001b[96mgetattr\u001b[0m(ray, func.\u001b[91m__name__\u001b[0m)(*args, **kwargs)                        \u001b[31m│\u001b[0m\n",
       "\u001b[31m│\u001b[0m \u001b[31m❱ \u001b[0m105 \u001b[2m│   │   \u001b[0m\u001b[94mreturn\u001b[0m func(*args, **kwargs)                                                       \u001b[31m│\u001b[0m\n",
       "\u001b[31m│\u001b[0m   \u001b[2m106 \u001b[0m\u001b[2m│   \u001b[0m                                                                                       \u001b[31m│\u001b[0m\n",
       "\u001b[31m│\u001b[0m   \u001b[2m107 \u001b[0m\u001b[2m│   \u001b[0m\u001b[94mreturn\u001b[0m wrapper                                                                         \u001b[31m│\u001b[0m\n",
       "\u001b[31m│\u001b[0m   \u001b[2m108 \u001b[0m                                                                                           \u001b[31m│\u001b[0m\n",
       "\u001b[31m│\u001b[0m                                                                                                  \u001b[31m│\u001b[0m\n",
       "\u001b[31m│\u001b[0m \u001b[2;33m/home/ray/anaconda3/lib/python3.9/site-packages/ray/_private/\u001b[0m\u001b[1;33mworker.py\u001b[0m:\u001b[94m2538\u001b[0m in \u001b[92mget_actor\u001b[0m         \u001b[31m│\u001b[0m\n",
       "\u001b[31m│\u001b[0m                                                                                                  \u001b[31m│\u001b[0m\n",
       "\u001b[31m│\u001b[0m   \u001b[2m2535 \u001b[0m\u001b[2m│   \u001b[0m                                                                                      \u001b[31m│\u001b[0m\n",
       "\u001b[31m│\u001b[0m   \u001b[2m2536 \u001b[0m\u001b[2m│   \u001b[0mworker = global_worker                                                                \u001b[31m│\u001b[0m\n",
       "\u001b[31m│\u001b[0m   \u001b[2m2537 \u001b[0m\u001b[2m│   \u001b[0mworker.check_connected()                                                              \u001b[31m│\u001b[0m\n",
       "\u001b[31m│\u001b[0m \u001b[31m❱ \u001b[0m2538 \u001b[2m│   \u001b[0m\u001b[94mreturn\u001b[0m worker.core_worker.get_named_actor_handle(name, namespace \u001b[95mor\u001b[0m \u001b[33m\"\u001b[0m\u001b[33m\"\u001b[0m)               \u001b[31m│\u001b[0m\n",
       "\u001b[31m│\u001b[0m   \u001b[2m2539 \u001b[0m                                                                                          \u001b[31m│\u001b[0m\n",
       "\u001b[31m│\u001b[0m   \u001b[2m2540 \u001b[0m                                                                                          \u001b[31m│\u001b[0m\n",
       "\u001b[31m│\u001b[0m   \u001b[2m2541 \u001b[0m\u001b[1;95m@PublicAPI\u001b[0m                                                                                \u001b[31m│\u001b[0m\n",
       "\u001b[31m│\u001b[0m                                                                                                  \u001b[31m│\u001b[0m\n",
       "\u001b[31m│\u001b[0m \u001b[2;33m/home/ray/tc-test-bloom/tc-test/python/ray/\u001b[0m\u001b[1;33m_raylet.pyx\u001b[0m:\u001b[94m2260\u001b[0m in                                   \u001b[31m│\u001b[0m\n",
       "\u001b[31m│\u001b[0m \u001b[92mray._raylet.CoreWorker.get_named_actor_handle\u001b[0m                                                    \u001b[31m│\u001b[0m\n",
       "\u001b[31m│\u001b[0m                                                                                                  \u001b[31m│\u001b[0m\n",
       "\u001b[31m│\u001b[0m \u001b[3;31m[Errno 2] No such file or directory: '/home/ray/tc-test-bloom/tc-test/python/ray/_raylet.pyx'\u001b[0m    \u001b[31m│\u001b[0m\n",
       "\u001b[31m│\u001b[0m                                                                                                  \u001b[31m│\u001b[0m\n",
       "\u001b[31m│\u001b[0m \u001b[2;33m/home/ray/tc-test-bloom/tc-test/python/ray/\u001b[0m\u001b[1;33m_raylet.pyx\u001b[0m:\u001b[94m199\u001b[0m in \u001b[92mray._raylet.check_status\u001b[0m           \u001b[31m│\u001b[0m\n",
       "\u001b[31m│\u001b[0m                                                                                                  \u001b[31m│\u001b[0m\n",
       "\u001b[31m│\u001b[0m \u001b[3;31m[Errno 2] No such file or directory: '/home/ray/tc-test-bloom/tc-test/python/ray/_raylet.pyx'\u001b[0m    \u001b[31m│\u001b[0m\n",
       "\u001b[31m╰──────────────────────────────────────────────────────────────────────────────────────────────────╯\u001b[0m\n",
       "\u001b[1;91mValueError: \u001b[0mFailed to look up actor with name \u001b[32m'shard4_2'\u001b[0m. This could because \u001b[1;36m1\u001b[0m. You are trying to look up a named \n",
       "actor you didn't create. \u001b[1;36m2\u001b[0m. The named actor died. \u001b[1;36m3\u001b[0m. You did not use a namespace matching the namespace of the \n",
       "actor.\n"
      ]
     },
     "metadata": {},
     "output_type": "display_data"
    }
   ],
   "source": [
    "ray.kill(ray.get_actor('shard4_2'))"
   ]
  },
  {
   "cell_type": "code",
   "execution_count": null,
   "id": "d8c59b51",
   "metadata": {},
   "outputs": [],
   "source": []
  }
 ],
 "metadata": {
  "kernelspec": {
   "display_name": "Python 3 (ipykernel)",
   "language": "python",
   "name": "python3"
  },
  "language_info": {
   "codemirror_mode": {
    "name": "ipython",
    "version": 3
   },
   "file_extension": ".py",
   "mimetype": "text/x-python",
   "name": "python",
   "nbconvert_exporter": "python",
   "pygments_lexer": "ipython3",
   "version": "3.9.12"
  }
 },
 "nbformat": 4,
 "nbformat_minor": 5
}
